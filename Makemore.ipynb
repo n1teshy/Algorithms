{
  "nbformat": 4,
  "nbformat_minor": 0,
  "metadata": {
    "colab": {
      "provenance": [],
      "gpuType": "T4",
      "authorship_tag": "ABX9TyMcchbZR21aNj6AskTYUxbI",
      "include_colab_link": true
    },
    "kernelspec": {
      "name": "python3",
      "display_name": "Python 3"
    },
    "language_info": {
      "name": "python"
    },
    "accelerator": "GPU"
  },
  "cells": [
    {
      "cell_type": "markdown",
      "metadata": {
        "id": "view-in-github",
        "colab_type": "text"
      },
      "source": [
        "<a href=\"https://colab.research.google.com/github/n1teshy/Algorithms/blob/main/Makemore.ipynb\" target=\"_parent\"><img src=\"https://colab.research.google.com/assets/colab-badge.svg\" alt=\"Open In Colab\"/></a>"
      ]
    },
    {
      "cell_type": "code",
      "source": [
        "\n",
        "import os\n",
        "import torch\n",
        "import torch.nn as nn\n",
        "from torch.nn import functional as F\n",
        "\n",
        "TRAINING_PORTION = 0.9\n",
        "DEVICE = \"cuda\" if torch.cuda.is_available() else \"CPU\"\n",
        "DEVICE = torch.device(DEVICE)"
      ],
      "metadata": {
        "id": "zd97bRGQKL7Z"
      },
      "execution_count": 13,
      "outputs": []
    },
    {
      "cell_type": "code",
      "source": [
        "with open(\"shakespeare.txt\", \"r\") as file:\n",
        "    content = file.read()\n",
        "\n",
        "chars = sorted(list(set(content)))\n",
        "vocab_size = len(chars)\n",
        "s_to_i = {char: idx for idx, char in enumerate(chars)}\n",
        "i_to_s = {val: fld for fld, val in s_to_i.items()}\n",
        "encode = lambda text: [s_to_i[char] for char in text]\n",
        "decode = lambda codes: \"\".join(i_to_s[code] for code in codes)\n",
        "content = torch.tensor(encode(content), dtype=torch.long, device=DEVICE)\n",
        "content_split_idx = int(TRAINING_PORTION * len(content))\n",
        "training_split = content[:content_split_idx]\n",
        "validation_split = content[content_split_idx:]"
      ],
      "metadata": {
        "id": "sQKn-KRPKnvU"
      },
      "execution_count": 42,
      "outputs": []
    },
    {
      "cell_type": "code",
      "source": [
        "block_size = 32\n",
        "batch_size = 32\n",
        "embedding_size = 32\n",
        "epochs = 5000\n",
        "eval_interval = epochs / 20\n",
        "eval_iters = 100\n",
        "learning_rate = 30e-4\n",
        "num_heads = 4\n",
        "num_layers = 4\n",
        "dropout = 0.2\n",
        "torch.manual_seed(1337)"
      ],
      "metadata": {
        "colab": {
          "base_uri": "https://localhost:8080/"
        },
        "id": "uAvGRg1JKsfi",
        "outputId": "82c0cd0b-d47c-49b8-f055-f9ee8ada0798"
      },
      "execution_count": 43,
      "outputs": [
        {
          "output_type": "execute_result",
          "data": {
            "text/plain": [
              "<torch._C.Generator at 0x7abe045496b0>"
            ]
          },
          "metadata": {},
          "execution_count": 43
        }
      ]
    },
    {
      "cell_type": "code",
      "source": [
        "\n",
        "def get_batch(batch=\"train\"):\n",
        "    data = training_split if batch == \"train\" else validation_split\n",
        "    idxs = torch.randint(len(data) - block_size, (batch_size,))\n",
        "    x = torch.stack([data[idx : idx + block_size] for idx in idxs]).to(DEVICE)\n",
        "    y = torch.stack([data[idx + 1 : idx + block_size + 1] for idx in idxs]).to(DEVICE)\n",
        "    return x, y"
      ],
      "metadata": {
        "id": "9pMPA_J3N4Z1"
      },
      "execution_count": 44,
      "outputs": []
    },
    {
      "cell_type": "code",
      "source": [
        "@torch.no_grad()\n",
        "def estimate_losses():\n",
        "    split_loss = {}\n",
        "    model.eval()\n",
        "    for split in [\"train\", \"val\"]:\n",
        "        losses = torch.zeros(eval_iters)\n",
        "        for k in range(eval_iters):\n",
        "            x_b, y_b = get_batch()\n",
        "            logits, loss = model(x_b, y_b)\n",
        "            losses[k] = loss.item()\n",
        "        split_loss[split] = losses.mean()\n",
        "    model.train()\n",
        "    return split_loss"
      ],
      "metadata": {
        "id": "f1yR1sc_OU34"
      },
      "execution_count": 45,
      "outputs": []
    },
    {
      "cell_type": "code",
      "source": [
        "class Head(nn.Module):\n",
        "    def __init__(self, head_size):\n",
        "        super().__init__()\n",
        "        self.key = nn.Linear(embedding_size, head_size, bias=False)\n",
        "        self.query = nn.Linear(embedding_size, head_size, bias=False)\n",
        "        self.value = nn.Linear(embedding_size, head_size, bias=False)\n",
        "        self.register_buffer(\"tril\", torch.tril(torch.ones(block_size, block_size)))\n",
        "\n",
        "        self.dropout = nn.Dropout(dropout)\n",
        "\n",
        "    def forward(self, x):\n",
        "        B, T, C = x.shape\n",
        "        k = self.key(x)  # (B, T, C) @ (C, C) -> (B, T, C)\n",
        "        q = self.query(x)  # (B, T, C) @ (C, C) -> (B, T, C)\n",
        "        wei = q @ k.transpose(-1, -2) * C**-0.5  # (B, T, C) @ (B, C, T) -> (B, T, T)\n",
        "        wei = wei.masked_fill(self.tril[:T, :T] == 0, float(\"-inf\"))\n",
        "        wei = F.softmax(wei, dim=-1)\n",
        "        wei = self.dropout(wei)\n",
        "        v = self.value(x)  # (B, T, C) @ (C, C) -> (B, T, C)\n",
        "        out = wei @ v  # (B, T, T) @ (B, T, C) -> (B, T, C)\n",
        "        return out"
      ],
      "metadata": {
        "id": "64mjxrXdPSv1"
      },
      "execution_count": 46,
      "outputs": []
    },
    {
      "cell_type": "code",
      "source": [
        "class MultiHeadAttention(nn.Module):\n",
        "    def __init__(self, num_heads, head_size):\n",
        "        super().__init__()\n",
        "        self.heads = [Head(head_size) for _ in range(num_heads)]\n",
        "        self.proj = nn.Linear(embedding_size, embedding_size)\n",
        "        self.dropout = nn.Dropout(dropout)\n",
        "\n",
        "    def forward(self, x):\n",
        "        out = torch.cat([h(x) for h in self.heads], dim=-1)\n",
        "        out = self.dropout(self.proj(out))\n",
        "        return out"
      ],
      "metadata": {
        "id": "B3qjc3xJPa7L"
      },
      "execution_count": 47,
      "outputs": []
    },
    {
      "cell_type": "code",
      "source": [
        "class FeedForward(nn.Module):\n",
        "    def __init__(self, embedding_size):\n",
        "        super().__init__()\n",
        "        self.net = nn.Sequential(\n",
        "            nn.Linear(embedding_size, 4 * embedding_size),\n",
        "            nn.ReLU(),\n",
        "            nn.Linear(4 * embedding_size, embedding_size),\n",
        "            nn.Dropout(dropout),\n",
        "        )\n",
        "\n",
        "    def forward(self, x):\n",
        "        return self.net(x)"
      ],
      "metadata": {
        "id": "YXlgf1oBPggR"
      },
      "execution_count": 48,
      "outputs": []
    },
    {
      "cell_type": "code",
      "source": [
        "class Block(nn.Module):\n",
        "    def __init__(self, embedding_size, num_heads):\n",
        "        super().__init__()\n",
        "        if embedding_size % num_heads != 0:\n",
        "            print(\n",
        "                f\"num_heads {num_heads} is not compatible with embedding size {embedding_size}\"\n",
        "            )\n",
        "            exit()\n",
        "        head_size = embedding_size // num_heads\n",
        "        self.sa = MultiHeadAttention(num_heads, head_size)\n",
        "        self.ffwd = FeedForward(embedding_size)\n",
        "        self.ln1 = nn.LayerNorm(embedding_size)\n",
        "        self.ln2 = nn.LayerNorm(embedding_size)\n",
        "\n",
        "    def forward(self, x):\n",
        "        x = x + self.sa(self.ln1(x))\n",
        "        x = x + self.ffwd(self.ln2(x))\n",
        "        return x"
      ],
      "metadata": {
        "id": "GYdtKJEHPleH"
      },
      "execution_count": 49,
      "outputs": []
    },
    {
      "cell_type": "code",
      "source": [
        "class BigramModel(nn.Module):\n",
        "    def __init__(self):\n",
        "        super().__init__()\n",
        "        self.token_embedding_table = nn.Embedding(vocab_size, embedding_size)\n",
        "        self.position_embedding_table = nn.Embedding(block_size, embedding_size)\n",
        "        self.blocks = nn.Sequential(\n",
        "            *(Block(embedding_size, num_heads) for _ in range(num_layers))\n",
        "        )\n",
        "        self.ln = nn.LayerNorm(embedding_size)\n",
        "        self.lm_head = nn.Linear(embedding_size, vocab_size)\n",
        "\n",
        "    def forward(self, idx, targets=None):\n",
        "        B, T = idx.shape\n",
        "        token_embeddings = self.token_embedding_table(idx)\n",
        "        position_embeddings = self.position_embedding_table(torch.arange(T))\n",
        "        x = token_embeddings * position_embeddings\n",
        "        x = self.blocks(x)\n",
        "        x = self.ln(x)\n",
        "        logits = self.lm_head(x)\n",
        "        if targets is None:\n",
        "            loss = None\n",
        "        else:\n",
        "            B, T, C = logits.shape\n",
        "            # pytorch expects the input dimensionality to be (B, C) or (C, )\n",
        "            logits = logits.view(B * T, C)\n",
        "            targets = targets.view(B * T)\n",
        "            loss = F.cross_entropy(logits, targets)\n",
        "        return logits, loss\n",
        "\n",
        "    def generate(self, idx, max_new_chars=100):\n",
        "        result = idx.clone()\n",
        "        for _ in range(max_new_chars):\n",
        "            idx = idx[:, -block_size:]\n",
        "            logits, loss = self(idx)\n",
        "            logits = logits[:, -1, :]\n",
        "            probs = F.softmax(logits, dim=1)\n",
        "            next_idx = torch.multinomial(probs, num_samples=1)\n",
        "            idx = torch.cat((idx, next_idx), dim=1)\n",
        "            result = torch.cat((result, next_idx), dim=1)\n",
        "        return result"
      ],
      "metadata": {
        "id": "X7skWIIJPqg_"
      },
      "execution_count": 50,
      "outputs": []
    },
    {
      "cell_type": "code",
      "source": [
        "model = BigramModel().to(DEVICE)\n",
        "optimizer = torch.optim.AdamW(model.parameters(), lr=learning_rate)"
      ],
      "metadata": {
        "id": "NzlOQslkP6v0"
      },
      "execution_count": 51,
      "outputs": []
    },
    {
      "cell_type": "code",
      "source": [
        "try:\n",
        "    for i in range(epochs):\n",
        "        x_b, y_b = get_batch()\n",
        "        logits, loss = model(x_b, y_b)\n",
        "        if i % eval_interval == 0:\n",
        "            losses = estimate_losses()\n",
        "            print(\n",
        "                f\"iter: {i}, training loss: {losses['train']}, val loss: {losses['val']}\"\n",
        "            )\n",
        "        optimizer.zero_grad(set_to_none=True)\n",
        "        loss.backward()\n",
        "        optimizer.step()\n",
        "except KeyboardInterrupt:\n",
        "    pass"
      ],
      "metadata": {
        "id": "QV-5d_ZaQdBl"
      },
      "execution_count": null,
      "outputs": []
    },
    {
      "cell_type": "code",
      "source": [
        "encoded_chars = model.generate(\n",
        "    torch.zeros((1, 1), dtype=torch.long, device=DEVICE), max_new_chars=1000\n",
        ")\n",
        "for idx, row in enumerate(encoded_chars, start=1):\n",
        "    print(f\"{idx}: {decode(row.tolist())}\")"
      ],
      "metadata": {
        "id": "cCdZvi7ASpqy"
      },
      "execution_count": null,
      "outputs": []
    }
  ]
}